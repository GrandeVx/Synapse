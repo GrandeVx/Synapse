{
 "cells": [
  {
   "cell_type": "code",
   "execution_count": 1,
   "id": "aefe5340",
   "metadata": {},
   "outputs": [],
   "source": [
    "# Definiamo le librerie da usare\n",
    "import seaborn as sns\n",
    "import pandas as pd\n",
    "import numpy as np\n",
    "import matplotlib.pyplot as plt"
   ]
  },
  {
   "cell_type": "code",
   "execution_count": 4,
   "id": "1c36b09d",
   "metadata": {},
   "outputs": [],
   "source": [
    "# Inizializziamo il dataset \n",
    "dataset = pd.read_csv('venezia.csv', index_col=False)\n",
    "# Andiamo a valutare solo i dati ottenuti nel 2015\n",
    "dataset_2015 = dataset[pd.DatetimeIndex(dataset[\"datetime\"]).year == 2015]\n",
    "dataset_2015 = dataset_2015.set_index(pd.DatetimeIndex(dataset_2015['datetime']))\n",
    "dataset_2015 = dataset_2015.drop(['datetime'], axis=1)"
   ]
  },
  {
   "cell_type": "code",
   "execution_count": 5,
   "id": "04e06782",
   "metadata": {},
   "outputs": [],
   "source": [
    "\n",
    "# Inizializziamo il dataset delle rilevazione metereologiche\n",
    "dataset_meteo = pd.read_csv('meteos.csv')\n",
    "\n",
    "# Andiamo a Normalizzare e scomporre le informazioni correltate alla data di acquisizione\n",
    "dataset_meteo['HR'] = np.where(dataset_meteo['HR'] >= 10 , dataset_meteo['HR'],\"0\"+dataset_meteo['HR'].astype(\"string\"))\n",
    "dataset_meteo['MO']= np.where(dataset_meteo['MO'] >= 10 , dataset_meteo['MO'],\"0\"+dataset_meteo['MO'].astype(\"string\"))\n",
    "dataset_meteo['DY'] = np.where(dataset_meteo['DY'] >= 10 , dataset_meteo['DY'],\"0\"+dataset_meteo['DY'].astype(\"string\"))\n",
    "\n",
    "# Ricompattiamo i dati una volta normalizzati\n",
    "dataset_meteo['time'] =  dataset_meteo['HR'].astype(\"string\") + ':' + '00' + ':' + '00'\n",
    "dataset_meteo['date'] =  dataset_meteo['YEAR'].astype(\"string\") + '-' + dataset_meteo['MO'].astype(\"string\") + '-' + dataset_meteo['DY'].astype(\"string\")\n",
    "\n",
    "# Rigenereiamo la data seguendo il formato specifico e la impostiamo come indice\n",
    "format = '%Y-%m-%d %H:%M:%S'\n",
    "dataset_meteo['Datetime'] = pd.to_datetime(dataset_meteo['date'] + ' ' + dataset_meteo['time'], format=format)\n",
    "dataset_meteo = dataset_meteo.set_index(pd.DatetimeIndex(dataset_meteo['Datetime']))\n",
    "\n",
    "# Eliminiamo le colonne usate in fase di sviluppo e Normalizziamo la colonna delle temperature\n",
    "dataset_meteo = dataset_meteo.drop(['YEAR','MO','DY','HR','time','date','Datetime'], axis=1)\n",
    "dataset_meteo = dataset_meteo.rename(columns= {'T2M;':'temperature'})\n",
    "dataset_meteo[\"temperature\"] = dataset_meteo[\"temperature\"].apply(lambda x: float(x.replace(';','')))"
   ]
  },
  {
   "cell_type": "code",
   "execution_count": 6,
   "id": "09c7d99c",
   "metadata": {},
   "outputs": [],
   "source": [
    "# Generiamo il dataset Finale Dato dal merge dei due Dataframe \n",
    "## Il risultato comprenderà unicamente 3 mesi per via dei dati mancanti \n",
    "dataset_finale = dataset_2015.join(dataset_meteo).dropna()"
   ]
  },
  {
   "cell_type": "code",
   "execution_count": 7,
   "id": "e9158788",
   "metadata": {},
   "outputs": [],
   "source": [
    "# Andiamo a generare una colonna dedita al conteggio delle settimane \n",
    "dataset_finale[\"week\"] = dataset_finale.index.isocalendar().week"
   ]
  },
  {
   "cell_type": "code",
   "execution_count": 8,
   "id": "bfc3184c",
   "metadata": {},
   "outputs": [],
   "source": [
    "# Generiamo un datafame contenente le medie settimanali\n",
    "andamento_settimanale = dataset_finale.groupby(\"week\").mean()"
   ]
  },
  {
   "cell_type": "code",
   "execution_count": 9,
   "id": "11ff1e5d",
   "metadata": {},
   "outputs": [
    {
     "data": {
      "text/plain": [
       "level          31.591772\n",
       "temperature     7.598224\n",
       "dtype: float64"
      ]
     },
     "execution_count": 9,
     "metadata": {},
     "output_type": "execute_result"
    }
   ],
   "source": [
    "andamento_settimanale.mean()"
   ]
  },
  {
   "cell_type": "code",
   "execution_count": 10,
   "id": "a9489510",
   "metadata": {},
   "outputs": [
    {
     "data": {
      "text/plain": [
       "level          66.785714\n",
       "temperature    12.728367\n",
       "dtype: float64"
      ]
     },
     "execution_count": 10,
     "metadata": {},
     "output_type": "execute_result"
    }
   ],
   "source": [
    "andamento_settimanale.max()"
   ]
  },
  {
   "cell_type": "code",
   "execution_count": 11,
   "id": "d7663f43",
   "metadata": {},
   "outputs": [
    {
     "data": {
      "text/plain": [
       "level          15.202381\n",
       "temperature     4.216548\n",
       "dtype: float64"
      ]
     },
     "execution_count": 11,
     "metadata": {},
     "output_type": "execute_result"
    }
   ],
   "source": [
    "andamento_settimanale.min()"
   ]
  },
  {
   "cell_type": "code",
   "execution_count": 12,
   "id": "3d489dc6",
   "metadata": {},
   "outputs": [
    {
     "data": {
      "text/plain": [
       "<AxesSubplot:xlabel='temperature', ylabel='level'>"
      ]
     },
     "execution_count": 12,
     "metadata": {},
     "output_type": "execute_result"
    },
    {
     "data": {
      "image/png": "[encoded data removed]",
      "text/plain": [
       "<Figure size 432x288 with 1 Axes>"
      ]
     },
     "metadata": {
      "needs_background": "light"
     },
     "output_type": "display_data"
    }
   ],
   "source": [
    "sns.lineplot(data=andamento_settimanale,x=\"temperature\",y=\"level\")"
   ]
  },
  {
   "cell_type": "code",
   "execution_count": 13,
   "id": "ea64fe3b",
   "metadata": {},
   "outputs": [],
   "source": [
    "# Ora simuliamo che per via di qualche problema vadano persi dei dati\n",
    "andamento_settimanale_fallato = andamento_settimanale.copy()\n",
    "andamento_settimanale_fallato.iloc[11] = [np.nan,np.nan]\n",
    "andamento_settimanale_fallato.iloc[3] = [np.nan,np.nan]\n",
    "andamento_settimanale_fallato.iloc[6] = [np.nan,np.nan]\n",
    "andamento_settimanale_fallato = andamento_settimanale_fallato.astype({\"level\": float}, errors='raise') \n",
    "andamento_settimanale_fallato = andamento_settimanale_fallato.astype({\"temperature\": float}, errors='raise')"
   ]
  },
  {
   "cell_type": "code",
   "execution_count": 14,
   "id": "9416bbda",
   "metadata": {},
   "outputs": [
    {
     "data": {
      "text/plain": [
       "<AxesSubplot:xlabel='temperature', ylabel='level'>"
      ]
     },
     "execution_count": 14,
     "metadata": {},
     "output_type": "execute_result"
    },
    {
     "data": {
      "image/png": "[encoded data removed]",
      "text/plain": [
       "<Figure size 432x288 with 1 Axes>"
      ]
     },
     "metadata": {
      "needs_background": "light"
     },
     "output_type": "display_data"
    }
   ],
   "source": [
    "sns.lineplot(data=andamento_settimanale_fallato,x=\"temperature\",y=\"level\")"
   ]
  },
  {
   "cell_type": "code",
   "execution_count": 15,
   "id": "06c87f5c",
   "metadata": {},
   "outputs": [],
   "source": [
    "# Grazie all'interpolazione possiamo riuscire tramite l'utilizzo dei dati conosciuti a risalire quelli persi\n",
    "andamento_settimanale_recuperato = andamento_settimanale_fallato.interpolate()"
   ]
  },
  {
   "cell_type": "code",
   "execution_count": 16,
   "id": "32213c09",
   "metadata": {},
   "outputs": [
    {
     "data": {
      "text/plain": [
       "<AxesSubplot:xlabel='temperature', ylabel='level'>"
      ]
     },
     "execution_count": 16,
     "metadata": {},
     "output_type": "execute_result"
    },
    {
     "data": {
      "image/png": "[encoded data removed]",
      "text/plain": [
       "<Figure size 432x288 with 1 Axes>"
      ]
     },
     "metadata": {
      "needs_background": "light"
     },
     "output_type": "display_data"
    }
   ],
   "source": [
    "sns.lineplot(data=andamento_settimanale_recuperato,x=\"temperature\",y=\"level\")"
   ]
  },
  {
   "cell_type": "code",
   "execution_count": null,
   "id": "1dbc674a",
   "metadata": {},
   "outputs": [],
   "source": []
  }
 ],
 "metadata": {
  "kernelspec": {
   "display_name": "Python 3 (ipykernel)",
   "language": "python",
   "name": "python3"
  },
  "language_info": {
   "codemirror_mode": {
    "name": "ipython",
    "version": 3
   },
   "file_extension": ".py",
   "mimetype": "text/x-python",
   "name": "python",
   "nbconvert_exporter": "python",
   "pygments_lexer": "ipython3",
   "version": "3.9.10"
  }
 },
 "nbformat": 4,
 "nbformat_minor": 5
}
