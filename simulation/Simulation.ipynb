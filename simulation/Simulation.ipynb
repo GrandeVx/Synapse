{
 "cells": [
  {
   "cell_type": "code",
   "execution_count": 32,
   "id": "a59e123d",
   "metadata": {},
   "outputs": [],
   "source": [
    "import seaborn as sns\n",
    "import pandas as pd\n",
    "import matplotlib.pyplot as plt"
   ]
  },
  {
   "cell_type": "code",
   "execution_count": 5,
   "id": "0e212711",
   "metadata": {},
   "outputs": [],
   "source": [
    "dataset = pd.read_csv('venezia.csv')"
   ]
  },
  {
   "cell_type": "code",
   "execution_count": 18,
   "id": "09f9d71e",
   "metadata": {},
   "outputs": [],
   "source": [
    "dataset['year'] = pd.DatetimeIndex(dataset['datetime']).year"
   ]
  },
  {
   "cell_type": "code",
   "execution_count": 29,
   "id": "d53c2921",
   "metadata": {},
   "outputs": [],
   "source": [
    "dataset_2015 = dataset[dataset[\"year\"] == 2015]"
   ]
  },
  {
   "cell_type": "code",
   "execution_count": 40,
   "id": "5af60967",
   "metadata": {},
   "outputs": [
    {
     "data": {
      "text/plain": [
       "<AxesSubplot:ylabel='Frequency'>"
      ]
     },
     "execution_count": 40,
     "metadata": {},
     "output_type": "execute_result"
    },
    {
     "data": {
      "image/png": "[encoded data removed]",
      "text/plain": [
       "<Figure size 432x288 with 1 Axes>"
      ]
     },
     "metadata": {
      "needs_background": "light"
     },
     "output_type": "display_data"
    }
   ],
   "source": [
    "dataset_2015[\"level\"].plot(kind = 'hist')"
   ]
  },
  {
   "cell_type": "code",
   "execution_count": null,
   "id": "fc1c9c91",
   "metadata": {},
   "outputs": [],
   "source": []
  },
  {
   "cell_type": "code",
   "execution_count": null,
   "id": "fdafd7ab",
   "metadata": {},
   "outputs": [],
   "source": []
  }
 ],
 "metadata": {
  "kernelspec": {
   "display_name": "Python 3 (ipykernel)",
   "language": "python",
   "name": "python3"
  },
  "language_info": {
   "codemirror_mode": {
    "name": "ipython",
    "version": 3
   },
   "file_extension": ".py",
   "mimetype": "text/x-python",
   "name": "python",
   "nbconvert_exporter": "python",
   "pygments_lexer": "ipython3",
   "version": "3.9.10"
  }
 },
 "nbformat": 4,
 "nbformat_minor": 5
}
