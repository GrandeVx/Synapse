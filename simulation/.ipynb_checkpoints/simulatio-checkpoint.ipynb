{
 "cells": [
  {
   "cell_type": "code",
   "execution_count": 244,
   "id": "921a6934",
   "metadata": {},
   "outputs": [],
   "source": [
    "import seaborn as sns\n",
    "import pandas as pd\n",
    "import numpy as np\n",
    "import matplotlib.pyplot as plt"
   ]
  },
  {
   "cell_type": "code",
   "execution_count": 47,
   "id": "86cfbf51",
   "metadata": {},
   "outputs": [],
   "source": [
    "dataset = pd.read_csv('venezia.csv', index_col=False)\n",
    "dataset_2015 = dataset[pd.DatetimeIndex(dataset[\"datetime\"]).year == 2015]"
   ]
  },
  {
   "cell_type": "code",
   "execution_count": 48,
   "id": "4a9fe838",
   "metadata": {},
   "outputs": [
    {
     "data": {
      "text/plain": [
       "<AxesSubplot:ylabel='Frequency'>"
      ]
     },
     "execution_count": 48,
     "metadata": {},
     "output_type": "execute_result"
    },
    {
     "data": {
      "image/png": "[encoded data removed]",
      "text/plain": [
       "<Figure size 432x288 with 1 Axes>"
      ]
     },
     "metadata": {
      "needs_background": "light"
     },
     "output_type": "display_data"
    }
   ],
   "source": [
    "dataset_2015[\"level\"].plot(kind=\"hist\") "
   ]
  },
  {
   "cell_type": "code",
   "execution_count": 49,
   "id": "377ccb64",
   "metadata": {},
   "outputs": [
    {
     "data": {
      "text/html": [
       "<div>\n",
       "<style scoped>\n",
       "    .dataframe tbody tr th:only-of-type {\n",
       "        vertical-align: middle;\n",
       "    }\n",
       "\n",
       "    .dataframe tbody tr th {\n",
       "        vertical-align: top;\n",
       "    }\n",
       "\n",
       "    .dataframe thead th {\n",
       "        text-align: right;\n",
       "    }\n",
       "</style>\n",
       "<table border=\"1\" class=\"dataframe\">\n",
       "  <thead>\n",
       "    <tr style=\"text-align: right;\">\n",
       "      <th></th>\n",
       "      <th>level</th>\n",
       "    </tr>\n",
       "    <tr>\n",
       "      <th>datetime</th>\n",
       "      <th></th>\n",
       "    </tr>\n",
       "  </thead>\n",
       "  <tbody>\n",
       "    <tr>\n",
       "      <th>2015-01-01 00:00:00</th>\n",
       "      <td>3.0</td>\n",
       "    </tr>\n",
       "    <tr>\n",
       "      <th>2015-01-01 01:00:00</th>\n",
       "      <td>-5.0</td>\n",
       "    </tr>\n",
       "    <tr>\n",
       "      <th>2015-01-01 02:00:00</th>\n",
       "      <td>-9.0</td>\n",
       "    </tr>\n",
       "    <tr>\n",
       "      <th>2015-01-01 03:00:00</th>\n",
       "      <td>-7.0</td>\n",
       "    </tr>\n",
       "    <tr>\n",
       "      <th>2015-01-01 04:00:00</th>\n",
       "      <td>2.0</td>\n",
       "    </tr>\n",
       "  </tbody>\n",
       "</table>\n",
       "</div>"
      ],
      "text/plain": [
       "                     level\n",
       "datetime                  \n",
       "2015-01-01 00:00:00    3.0\n",
       "2015-01-01 01:00:00   -5.0\n",
       "2015-01-01 02:00:00   -9.0\n",
       "2015-01-01 03:00:00   -7.0\n",
       "2015-01-01 04:00:00    2.0"
      ]
     },
     "execution_count": 49,
     "metadata": {},
     "output_type": "execute_result"
    }
   ],
   "source": [
    "dataset_2015 = dataset_2015.set_index(pd.DatetimeIndex(dataset_2015['datetime']))\n",
    "dataset_2015 = dataset_2015.drop(['datetime'], axis=1)\n",
    "dataset_2015.head()"
   ]
  },
  {
   "cell_type": "code",
   "execution_count": 50,
   "id": "daea47ae",
   "metadata": {},
   "outputs": [],
   "source": [
    "dataset_meteo = pd.read_csv('meteos.csv')"
   ]
  },
  {
   "cell_type": "code",
   "execution_count": 51,
   "id": "25a52e37",
   "metadata": {},
   "outputs": [
    {
     "data": {
      "text/html": [
       "<div>\n",
       "<style scoped>\n",
       "    .dataframe tbody tr th:only-of-type {\n",
       "        vertical-align: middle;\n",
       "    }\n",
       "\n",
       "    .dataframe tbody tr th {\n",
       "        vertical-align: top;\n",
       "    }\n",
       "\n",
       "    .dataframe thead th {\n",
       "        text-align: right;\n",
       "    }\n",
       "</style>\n",
       "<table border=\"1\" class=\"dataframe\">\n",
       "  <thead>\n",
       "    <tr style=\"text-align: right;\">\n",
       "      <th></th>\n",
       "      <th>YEAR</th>\n",
       "      <th>MO</th>\n",
       "      <th>DY</th>\n",
       "      <th>HR</th>\n",
       "      <th>T2M;</th>\n",
       "    </tr>\n",
       "  </thead>\n",
       "  <tbody>\n",
       "    <tr>\n",
       "      <th>0</th>\n",
       "      <td>2015</td>\n",
       "      <td>1</td>\n",
       "      <td>1</td>\n",
       "      <td>1</td>\n",
       "      <td>0.77;</td>\n",
       "    </tr>\n",
       "    <tr>\n",
       "      <th>1</th>\n",
       "      <td>2015</td>\n",
       "      <td>1</td>\n",
       "      <td>1</td>\n",
       "      <td>2</td>\n",
       "      <td>1.14;</td>\n",
       "    </tr>\n",
       "    <tr>\n",
       "      <th>2</th>\n",
       "      <td>2015</td>\n",
       "      <td>1</td>\n",
       "      <td>1</td>\n",
       "      <td>3</td>\n",
       "      <td>1.55;</td>\n",
       "    </tr>\n",
       "    <tr>\n",
       "      <th>3</th>\n",
       "      <td>2015</td>\n",
       "      <td>1</td>\n",
       "      <td>1</td>\n",
       "      <td>4</td>\n",
       "      <td>1.77;</td>\n",
       "    </tr>\n",
       "    <tr>\n",
       "      <th>4</th>\n",
       "      <td>2015</td>\n",
       "      <td>1</td>\n",
       "      <td>1</td>\n",
       "      <td>5</td>\n",
       "      <td>1.9;</td>\n",
       "    </tr>\n",
       "    <tr>\n",
       "      <th>...</th>\n",
       "      <td>...</td>\n",
       "      <td>...</td>\n",
       "      <td>...</td>\n",
       "      <td>...</td>\n",
       "      <td>...</td>\n",
       "    </tr>\n",
       "    <tr>\n",
       "      <th>2155</th>\n",
       "      <td>2015</td>\n",
       "      <td>3</td>\n",
       "      <td>31</td>\n",
       "      <td>20</td>\n",
       "      <td>13.56;</td>\n",
       "    </tr>\n",
       "    <tr>\n",
       "      <th>2156</th>\n",
       "      <td>2015</td>\n",
       "      <td>3</td>\n",
       "      <td>31</td>\n",
       "      <td>21</td>\n",
       "      <td>13.28;</td>\n",
       "    </tr>\n",
       "    <tr>\n",
       "      <th>2157</th>\n",
       "      <td>2015</td>\n",
       "      <td>3</td>\n",
       "      <td>31</td>\n",
       "      <td>22</td>\n",
       "      <td>12.55;</td>\n",
       "    </tr>\n",
       "    <tr>\n",
       "      <th>2158</th>\n",
       "      <td>2015</td>\n",
       "      <td>3</td>\n",
       "      <td>31</td>\n",
       "      <td>23</td>\n",
       "      <td>11.42;</td>\n",
       "    </tr>\n",
       "    <tr>\n",
       "      <th>2159</th>\n",
       "      <td>2015</td>\n",
       "      <td>4</td>\n",
       "      <td>1</td>\n",
       "      <td>0</td>\n",
       "      <td>11.26;</td>\n",
       "    </tr>\n",
       "  </tbody>\n",
       "</table>\n",
       "<p>2160 rows × 5 columns</p>\n",
       "</div>"
      ],
      "text/plain": [
       "      YEAR  MO  DY  HR    T2M;\n",
       "0     2015   1   1   1   0.77;\n",
       "1     2015   1   1   2   1.14;\n",
       "2     2015   1   1   3   1.55;\n",
       "3     2015   1   1   4   1.77;\n",
       "4     2015   1   1   5    1.9;\n",
       "...    ...  ..  ..  ..     ...\n",
       "2155  2015   3  31  20  13.56;\n",
       "2156  2015   3  31  21  13.28;\n",
       "2157  2015   3  31  22  12.55;\n",
       "2158  2015   3  31  23  11.42;\n",
       "2159  2015   4   1   0  11.26;\n",
       "\n",
       "[2160 rows x 5 columns]"
      ]
     },
     "execution_count": 51,
     "metadata": {},
     "output_type": "execute_result"
    }
   ],
   "source": [
    "dataset_meteo"
   ]
  },
  {
   "cell_type": "code",
   "execution_count": 52,
   "id": "8c442d51",
   "metadata": {},
   "outputs": [],
   "source": [
    "dataset_meteo['HR'] = np.where(dataset_meteo['HR'] >= 10 , dataset_meteo['HR'],\"0\"+dataset_meteo['HR'].astype(\"string\"))\n",
    "dataset_meteo['MO']= np.where(dataset_meteo['MO'] >= 10 , dataset_meteo['MO'],\"0\"+dataset_meteo['MO'].astype(\"string\"))\n",
    "dataset_meteo['DY'] = np.where(dataset_meteo['DY'] >= 10 , dataset_meteo['DY'],\"0\"+dataset_meteo['DY'].astype(\"string\"))"
   ]
  },
  {
   "cell_type": "code",
   "execution_count": 53,
   "id": "ce038e97",
   "metadata": {},
   "outputs": [],
   "source": [
    "dataset_meteo['time'] =  dataset_meteo['HR'].astype(\"string\") + ':' + '00' + ':' + '00'\n",
    "dataset_meteo['date'] =  dataset_meteo['YEAR'].astype(\"string\") + '-' + dataset_meteo['MO'].astype(\"string\") + '-' + dataset_meteo['DY'].astype(\"string\")"
   ]
  },
  {
   "cell_type": "code",
   "execution_count": 54,
   "id": "dffeb9b9",
   "metadata": {},
   "outputs": [],
   "source": [
    "format = '%Y-%m-%d %H:%M:%S'\n",
    "dataset_meteo['Datetime'] = pd.to_datetime(dataset_meteo['date'] + ' ' + dataset_meteo['time'], format=format)\n",
    "dataset_meteo = dataset_meteo.set_index(pd.DatetimeIndex(dataset_meteo['Datetime']))"
   ]
  },
  {
   "cell_type": "code",
   "execution_count": 55,
   "id": "6e037072",
   "metadata": {},
   "outputs": [],
   "source": [
    "dataset_meteo = dataset_meteo.drop(['YEAR','MO','DY','HR','time','date','Datetime'], axis=1)\n",
    "dataset_meteo = dataset_meteo.rename(columns= {'T2M;':'temperature'})"
   ]
  },
  {
   "cell_type": "code",
   "execution_count": 56,
   "id": "0b0a9e02",
   "metadata": {},
   "outputs": [],
   "source": [
    "dataset_meteo[\"temperature\"] = dataset_meteo[\"temperature\"].apply(lambda x: float(x.replace(';','')))"
   ]
  },
  {
   "cell_type": "code",
   "execution_count": 57,
   "id": "2fae7ff2",
   "metadata": {},
   "outputs": [],
   "source": [
    "dataset_finale = dataset_2015.join(dataset_meteo).dropna()"
   ]
  },
  {
   "cell_type": "code",
   "execution_count": 58,
   "id": "447c905d",
   "metadata": {},
   "outputs": [
    {
     "data": {
      "text/plain": [
       "<seaborn.axisgrid.FacetGrid at 0x15ab09e80>"
      ]
     },
     "execution_count": 58,
     "metadata": {},
     "output_type": "execute_result"
    },
    {
     "data": {
      "image/png": "[encoded data removed]",
      "text/plain": [
       "<Figure size 360x360 with 1 Axes>"
      ]
     },
     "metadata": {
      "needs_background": "light"
     },
     "output_type": "display_data"
    }
   ],
   "source": [
    "sns.relplot(data=dataset_finale,x=\"temperature\",y=\"level\")"
   ]
  },
  {
   "cell_type": "code",
   "execution_count": 59,
   "id": "32b3c1e9",
   "metadata": {},
   "outputs": [
    {
     "data": {
      "text/plain": [
       "<AxesSubplot:xlabel='temperature', ylabel='level'>"
      ]
     },
     "execution_count": 59,
     "metadata": {},
     "output_type": "execute_result"
    },
    {
     "data": {
      "image/png": "[encoded data removed]",
      "text/plain": [
       "<Figure size 432x288 with 1 Axes>"
      ]
     },
     "metadata": {
      "needs_background": "light"
     },
     "output_type": "display_data"
    }
   ],
   "source": [
    "sns.lineplot(data=dataset_finale,x=\"temperature\",y=\"level\")"
   ]
  },
  {
   "cell_type": "code",
   "execution_count": 60,
   "id": "3001e65b",
   "metadata": {},
   "outputs": [
    {
     "data": {
      "text/plain": [
       "datetime\n",
       "2015-01-01 01:00:00    -2.115\n",
       "2015-01-01 02:00:00    -3.930\n",
       "2015-01-01 03:00:00    -2.725\n",
       "2015-01-01 04:00:00     1.885\n",
       "2015-01-01 05:00:00     7.450\n",
       "                        ...  \n",
       "2015-03-31 20:00:00    52.780\n",
       "2015-03-31 21:00:00    57.140\n",
       "2015-03-31 22:00:00    57.275\n",
       "2015-03-31 23:00:00    52.210\n",
       "2015-04-01 00:00:00    46.130\n",
       "Length: 2160, dtype: float64"
      ]
     },
     "execution_count": 60,
     "metadata": {},
     "output_type": "execute_result"
    }
   ],
   "source": [
    "dataset_finale.mean(axis=1)"
   ]
  },
  {
   "cell_type": "code",
   "execution_count": 61,
   "id": "b241221b",
   "metadata": {},
   "outputs": [
    {
     "data": {
      "text/plain": [
       "<AxesSubplot:xlabel='temperature', ylabel='level'>"
      ]
     },
     "execution_count": 61,
     "metadata": {},
     "output_type": "execute_result"
    },
    {
     "data": {
      "image/png": "[encoded data removed]",
      "text/plain": [
       "<Figure size 432x288 with 1 Axes>"
      ]
     },
     "metadata": {
      "needs_background": "light"
     },
     "output_type": "display_data"
    }
   ],
   "source": [
    "condition = (dataset_finale[\"temperature\"] >= 1.00) & (dataset_finale[\"temperature\"] < 2.00)\n",
    "dataset_finale[condition]\n",
    "sns.lineplot(data=dataset_finale[condition],x=\"temperature\",y=\"level\")"
   ]
  },
  {
   "cell_type": "code",
   "execution_count": 62,
   "id": "1643ad14",
   "metadata": {},
   "outputs": [
    {
     "data": {
      "text/plain": [
       "<seaborn.axisgrid.FacetGrid at 0x283217d30>"
      ]
     },
     "execution_count": 62,
     "metadata": {},
     "output_type": "execute_result"
    },
    {
     "data": {
      "image/png": "[encoded data removed]",
      "text/plain": [
       "<Figure size 360x360 with 1 Axes>"
      ]
     },
     "metadata": {
      "needs_background": "light"
     },
     "output_type": "display_data"
    }
   ],
   "source": [
    "sns.relplot(data=dataset_finale[condition],x=\"temperature\",y=\"level\")"
   ]
  },
  {
   "cell_type": "code",
   "execution_count": 217,
   "id": "e8fdb8a9",
   "metadata": {},
   "outputs": [
    {
     "data": {
      "text/plain": [
       "level          43.571429\n",
       "temperature    14.448571\n",
       "week           13.714286\n",
       "dtype: float64"
      ]
     },
     "execution_count": 217,
     "metadata": {},
     "output_type": "execute_result"
    }
   ],
   "source": [
    "condition = (dataset_finale[\"temperature\"] >= 14.00) & (dataset_finale[\"temperature\"] < 15.00)\n",
    "dataset_finale[condition].mean(axis=0)"
   ]
  },
  {
   "cell_type": "code",
   "execution_count": 218,
   "id": "7ebf176a",
   "metadata": {},
   "outputs": [
    {
     "name": "stdout",
     "output_type": "stream",
     "text": [
      "level          78.00\n",
      "temperature    14.96\n",
      "week           14.00\n",
      "dtype: float64\n"
     ]
    }
   ],
   "source": [
    "print(dataset_finale[condition].max())"
   ]
  },
  {
   "cell_type": "code",
   "execution_count": 229,
   "id": "375ee05b",
   "metadata": {},
   "outputs": [],
   "source": [
    "dataset_finale[\"week\"] = dataset_finale.index.isocalendar().week"
   ]
  },
  {
   "cell_type": "code",
   "execution_count": 230,
   "id": "1018fd5d",
   "metadata": {},
   "outputs": [],
   "source": [
    "andamento_settimanale = dataset_finale.groupby(\"week\").mean()"
   ]
  },
  {
   "cell_type": "code",
   "execution_count": 231,
   "id": "397cace1",
   "metadata": {},
   "outputs": [
    {
     "data": {
      "text/plain": [
       "<AxesSubplot:xlabel='temperature', ylabel='level'>"
      ]
     },
     "execution_count": 231,
     "metadata": {},
     "output_type": "execute_result"
    },
    {
     "data": {
      "image/png": "[encoded data removed]",
      "text/plain": [
       "<Figure size 432x288 with 1 Axes>"
      ]
     },
     "metadata": {
      "needs_background": "light"
     },
     "output_type": "display_data"
    }
   ],
   "source": [
    "sns.lineplot(data=andamento_settimanale,x=\"temperature\",y=\"level\")"
   ]
  },
  {
   "cell_type": "code",
   "execution_count": 232,
   "id": "086e6a70",
   "metadata": {},
   "outputs": [
    {
     "data": {
      "text/plain": [
       "<seaborn.axisgrid.FacetGrid at 0x28e680cd0>"
      ]
     },
     "execution_count": 232,
     "metadata": {},
     "output_type": "execute_result"
    },
    {
     "data": {
      "image/png": "[encoded data removed]",
      "text/plain": [
       "<Figure size 360x360 with 1 Axes>"
      ]
     },
     "metadata": {
      "needs_background": "light"
     },
     "output_type": "display_data"
    }
   ],
   "source": [
    "sns.relplot(data=andamento_settimanale,x=\"temperature\",y=\"level\")"
   ]
  },
  {
   "cell_type": "code",
   "execution_count": 233,
   "id": "6432a62e",
   "metadata": {},
   "outputs": [],
   "source": [
    "andamento_settimanale_fallato = andamento_settimanale.copy()"
   ]
  },
  {
   "cell_type": "code",
   "execution_count": 239,
   "id": "4bf6af19",
   "metadata": {},
   "outputs": [],
   "source": [
    "andamento_settimanale_fallato.iloc[11] = [np.nan,np.nan]\n",
    "andamento_settimanale_fallato.iloc[3] = [np.nan,np.nan]\n",
    "andamento_settimanale_fallato.iloc[6] = [np.nan,np.nan]"
   ]
  },
  {
   "cell_type": "code",
   "execution_count": 240,
   "id": "5b3438b0",
   "metadata": {},
   "outputs": [],
   "source": [
    "andamento_settimanale_fallato = andamento_settimanale_fallato.astype({\"level\": float}, errors='raise') \n",
    "andamento_settimanale_fallato = andamento_settimanale_fallato.astype({\"temperature\": float}, errors='raise')\n"
   ]
  },
  {
   "cell_type": "code",
   "execution_count": 241,
   "id": "a5ba79b8",
   "metadata": {},
   "outputs": [
    {
     "data": {
      "text/html": [
       "<div>\n",
       "<style scoped>\n",
       "    .dataframe tbody tr th:only-of-type {\n",
       "        vertical-align: middle;\n",
       "    }\n",
       "\n",
       "    .dataframe tbody tr th {\n",
       "        vertical-align: top;\n",
       "    }\n",
       "\n",
       "    .dataframe thead th {\n",
       "        text-align: right;\n",
       "    }\n",
       "</style>\n",
       "<table border=\"1\" class=\"dataframe\">\n",
       "  <thead>\n",
       "    <tr style=\"text-align: right;\">\n",
       "      <th></th>\n",
       "      <th>level</th>\n",
       "      <th>temperature</th>\n",
       "    </tr>\n",
       "    <tr>\n",
       "      <th>week</th>\n",
       "      <th></th>\n",
       "      <th></th>\n",
       "    </tr>\n",
       "  </thead>\n",
       "  <tbody>\n",
       "    <tr>\n",
       "      <th>1</th>\n",
       "      <td>20.136842</td>\n",
       "      <td>5.111474</td>\n",
       "    </tr>\n",
       "    <tr>\n",
       "      <th>2</th>\n",
       "      <td>19.738095</td>\n",
       "      <td>6.323214</td>\n",
       "    </tr>\n",
       "    <tr>\n",
       "      <th>3</th>\n",
       "      <td>24.059524</td>\n",
       "      <td>7.432560</td>\n",
       "    </tr>\n",
       "    <tr>\n",
       "      <th>4</th>\n",
       "      <td>NaN</td>\n",
       "      <td>NaN</td>\n",
       "    </tr>\n",
       "    <tr>\n",
       "      <th>5</th>\n",
       "      <td>48.047619</td>\n",
       "      <td>4.928274</td>\n",
       "    </tr>\n",
       "    <tr>\n",
       "      <th>6</th>\n",
       "      <td>66.785714</td>\n",
       "      <td>4.216548</td>\n",
       "    </tr>\n",
       "    <tr>\n",
       "      <th>7</th>\n",
       "      <td>NaN</td>\n",
       "      <td>NaN</td>\n",
       "    </tr>\n",
       "    <tr>\n",
       "      <th>8</th>\n",
       "      <td>18.589286</td>\n",
       "      <td>6.574821</td>\n",
       "    </tr>\n",
       "    <tr>\n",
       "      <th>9</th>\n",
       "      <td>33.267857</td>\n",
       "      <td>8.079226</td>\n",
       "    </tr>\n",
       "    <tr>\n",
       "      <th>10</th>\n",
       "      <td>25.845238</td>\n",
       "      <td>8.032321</td>\n",
       "    </tr>\n",
       "    <tr>\n",
       "      <th>11</th>\n",
       "      <td>19.648810</td>\n",
       "      <td>8.669286</td>\n",
       "    </tr>\n",
       "    <tr>\n",
       "      <th>12</th>\n",
       "      <td>NaN</td>\n",
       "      <td>NaN</td>\n",
       "    </tr>\n",
       "    <tr>\n",
       "      <th>13</th>\n",
       "      <td>32.875000</td>\n",
       "      <td>10.783929</td>\n",
       "    </tr>\n",
       "    <tr>\n",
       "      <th>14</th>\n",
       "      <td>51.040816</td>\n",
       "      <td>12.728367</td>\n",
       "    </tr>\n",
       "  </tbody>\n",
       "</table>\n",
       "</div>"
      ],
      "text/plain": [
       "          level  temperature\n",
       "week                        \n",
       "1     20.136842     5.111474\n",
       "2     19.738095     6.323214\n",
       "3     24.059524     7.432560\n",
       "4           NaN          NaN\n",
       "5     48.047619     4.928274\n",
       "6     66.785714     4.216548\n",
       "7           NaN          NaN\n",
       "8     18.589286     6.574821\n",
       "9     33.267857     8.079226\n",
       "10    25.845238     8.032321\n",
       "11    19.648810     8.669286\n",
       "12          NaN          NaN\n",
       "13    32.875000    10.783929\n",
       "14    51.040816    12.728367"
      ]
     },
     "execution_count": 241,
     "metadata": {},
     "output_type": "execute_result"
    }
   ],
   "source": [
    "andamento_settimanale_fallato"
   ]
  },
  {
   "cell_type": "code",
   "execution_count": 242,
   "id": "306ab6da",
   "metadata": {},
   "outputs": [
    {
     "data": {
      "text/html": [
       "<div>\n",
       "<style scoped>\n",
       "    .dataframe tbody tr th:only-of-type {\n",
       "        vertical-align: middle;\n",
       "    }\n",
       "\n",
       "    .dataframe tbody tr th {\n",
       "        vertical-align: top;\n",
       "    }\n",
       "\n",
       "    .dataframe thead th {\n",
       "        text-align: right;\n",
       "    }\n",
       "</style>\n",
       "<table border=\"1\" class=\"dataframe\">\n",
       "  <thead>\n",
       "    <tr style=\"text-align: right;\">\n",
       "      <th></th>\n",
       "      <th>level</th>\n",
       "      <th>temperature</th>\n",
       "    </tr>\n",
       "    <tr>\n",
       "      <th>week</th>\n",
       "      <th></th>\n",
       "      <th></th>\n",
       "    </tr>\n",
       "  </thead>\n",
       "  <tbody>\n",
       "    <tr>\n",
       "      <th>1</th>\n",
       "      <td>20.136842</td>\n",
       "      <td>5.111474</td>\n",
       "    </tr>\n",
       "    <tr>\n",
       "      <th>2</th>\n",
       "      <td>19.738095</td>\n",
       "      <td>6.323214</td>\n",
       "    </tr>\n",
       "    <tr>\n",
       "      <th>3</th>\n",
       "      <td>24.059524</td>\n",
       "      <td>7.432560</td>\n",
       "    </tr>\n",
       "    <tr>\n",
       "      <th>4</th>\n",
       "      <td>36.053571</td>\n",
       "      <td>6.180417</td>\n",
       "    </tr>\n",
       "    <tr>\n",
       "      <th>5</th>\n",
       "      <td>48.047619</td>\n",
       "      <td>4.928274</td>\n",
       "    </tr>\n",
       "    <tr>\n",
       "      <th>6</th>\n",
       "      <td>66.785714</td>\n",
       "      <td>4.216548</td>\n",
       "    </tr>\n",
       "    <tr>\n",
       "      <th>7</th>\n",
       "      <td>42.687500</td>\n",
       "      <td>5.395685</td>\n",
       "    </tr>\n",
       "    <tr>\n",
       "      <th>8</th>\n",
       "      <td>18.589286</td>\n",
       "      <td>6.574821</td>\n",
       "    </tr>\n",
       "    <tr>\n",
       "      <th>9</th>\n",
       "      <td>33.267857</td>\n",
       "      <td>8.079226</td>\n",
       "    </tr>\n",
       "    <tr>\n",
       "      <th>10</th>\n",
       "      <td>25.845238</td>\n",
       "      <td>8.032321</td>\n",
       "    </tr>\n",
       "    <tr>\n",
       "      <th>11</th>\n",
       "      <td>19.648810</td>\n",
       "      <td>8.669286</td>\n",
       "    </tr>\n",
       "    <tr>\n",
       "      <th>12</th>\n",
       "      <td>26.261905</td>\n",
       "      <td>9.726607</td>\n",
       "    </tr>\n",
       "    <tr>\n",
       "      <th>13</th>\n",
       "      <td>32.875000</td>\n",
       "      <td>10.783929</td>\n",
       "    </tr>\n",
       "    <tr>\n",
       "      <th>14</th>\n",
       "      <td>51.040816</td>\n",
       "      <td>12.728367</td>\n",
       "    </tr>\n",
       "  </tbody>\n",
       "</table>\n",
       "</div>"
      ],
      "text/plain": [
       "          level  temperature\n",
       "week                        \n",
       "1     20.136842     5.111474\n",
       "2     19.738095     6.323214\n",
       "3     24.059524     7.432560\n",
       "4     36.053571     6.180417\n",
       "5     48.047619     4.928274\n",
       "6     66.785714     4.216548\n",
       "7     42.687500     5.395685\n",
       "8     18.589286     6.574821\n",
       "9     33.267857     8.079226\n",
       "10    25.845238     8.032321\n",
       "11    19.648810     8.669286\n",
       "12    26.261905     9.726607\n",
       "13    32.875000    10.783929\n",
       "14    51.040816    12.728367"
      ]
     },
     "execution_count": 242,
     "metadata": {},
     "output_type": "execute_result"
    }
   ],
   "source": [
    "andamento_settimanale_fallato.interpolate()"
   ]
  },
  {
   "cell_type": "code",
   "execution_count": 238,
   "id": "01f9fb9e",
   "metadata": {},
   "outputs": [
    {
     "data": {
      "text/html": [
       "<div>\n",
       "<style scoped>\n",
       "    .dataframe tbody tr th:only-of-type {\n",
       "        vertical-align: middle;\n",
       "    }\n",
       "\n",
       "    .dataframe tbody tr th {\n",
       "        vertical-align: top;\n",
       "    }\n",
       "\n",
       "    .dataframe thead th {\n",
       "        text-align: right;\n",
       "    }\n",
       "</style>\n",
       "<table border=\"1\" class=\"dataframe\">\n",
       "  <thead>\n",
       "    <tr style=\"text-align: right;\">\n",
       "      <th></th>\n",
       "      <th>level</th>\n",
       "      <th>temperature</th>\n",
       "    </tr>\n",
       "    <tr>\n",
       "      <th>week</th>\n",
       "      <th></th>\n",
       "      <th></th>\n",
       "    </tr>\n",
       "  </thead>\n",
       "  <tbody>\n",
       "    <tr>\n",
       "      <th>1</th>\n",
       "      <td>20.136842</td>\n",
       "      <td>5.111474</td>\n",
       "    </tr>\n",
       "    <tr>\n",
       "      <th>2</th>\n",
       "      <td>19.738095</td>\n",
       "      <td>6.323214</td>\n",
       "    </tr>\n",
       "    <tr>\n",
       "      <th>3</th>\n",
       "      <td>24.059524</td>\n",
       "      <td>7.432560</td>\n",
       "    </tr>\n",
       "    <tr>\n",
       "      <th>4</th>\n",
       "      <td>36.863095</td>\n",
       "      <td>7.313333</td>\n",
       "    </tr>\n",
       "    <tr>\n",
       "      <th>5</th>\n",
       "      <td>48.047619</td>\n",
       "      <td>4.928274</td>\n",
       "    </tr>\n",
       "    <tr>\n",
       "      <th>6</th>\n",
       "      <td>66.785714</td>\n",
       "      <td>4.216548</td>\n",
       "    </tr>\n",
       "    <tr>\n",
       "      <th>7</th>\n",
       "      <td>30.184524</td>\n",
       "      <td>6.232083</td>\n",
       "    </tr>\n",
       "    <tr>\n",
       "      <th>8</th>\n",
       "      <td>18.589286</td>\n",
       "      <td>6.574821</td>\n",
       "    </tr>\n",
       "    <tr>\n",
       "      <th>9</th>\n",
       "      <td>33.267857</td>\n",
       "      <td>8.079226</td>\n",
       "    </tr>\n",
       "    <tr>\n",
       "      <th>10</th>\n",
       "      <td>25.845238</td>\n",
       "      <td>8.032321</td>\n",
       "    </tr>\n",
       "    <tr>\n",
       "      <th>11</th>\n",
       "      <td>19.648810</td>\n",
       "      <td>8.669286</td>\n",
       "    </tr>\n",
       "    <tr>\n",
       "      <th>12</th>\n",
       "      <td>15.202381</td>\n",
       "      <td>9.949702</td>\n",
       "    </tr>\n",
       "    <tr>\n",
       "      <th>13</th>\n",
       "      <td>32.875000</td>\n",
       "      <td>10.783929</td>\n",
       "    </tr>\n",
       "    <tr>\n",
       "      <th>14</th>\n",
       "      <td>51.040816</td>\n",
       "      <td>12.728367</td>\n",
       "    </tr>\n",
       "  </tbody>\n",
       "</table>\n",
       "</div>"
      ],
      "text/plain": [
       "          level  temperature\n",
       "week                        \n",
       "1     20.136842     5.111474\n",
       "2     19.738095     6.323214\n",
       "3     24.059524     7.432560\n",
       "4     36.863095     7.313333\n",
       "5     48.047619     4.928274\n",
       "6     66.785714     4.216548\n",
       "7     30.184524     6.232083\n",
       "8     18.589286     6.574821\n",
       "9     33.267857     8.079226\n",
       "10    25.845238     8.032321\n",
       "11    19.648810     8.669286\n",
       "12    15.202381     9.949702\n",
       "13    32.875000    10.783929\n",
       "14    51.040816    12.728367"
      ]
     },
     "execution_count": 238,
     "metadata": {},
     "output_type": "execute_result"
    }
   ],
   "source": [
    "andamento_settimanale"
   ]
  },
  {
   "cell_type": "code",
   "execution_count": 250,
   "id": "9a92593e",
   "metadata": {},
   "outputs": [
    {
     "data": {
      "text/plain": [
       "<AxesSubplot:xlabel='temperature', ylabel='level'>"
      ]
     },
     "execution_count": 250,
     "metadata": {},
     "output_type": "execute_result"
    },
    {
     "data": {
      "image/png": "[encoded data removed]",
      "text/plain": [
       "<Figure size 432x288 with 1 Axes>"
      ]
     },
     "metadata": {
      "needs_background": "light"
     },
     "output_type": "display_data"
    }
   ],
   "source": [
    "sns.lineplot(data=andamento_settimanale,x=\"temperature\",y=\"level\")"
   ]
  },
  {
   "cell_type": "code",
   "execution_count": null,
   "id": "acdd80f9",
   "metadata": {},
   "outputs": [],
   "source": []
  }
 ],
 "metadata": {
  "kernelspec": {
   "display_name": "Python 3 (ipykernel)",
   "language": "python",
   "name": "python3"
  },
  "language_info": {
   "codemirror_mode": {
    "name": "ipython",
    "version": 3
   },
   "file_extension": ".py",
   "mimetype": "text/x-python",
   "name": "python",
   "nbconvert_exporter": "python",
   "pygments_lexer": "ipython3",
   "version": "3.9.10"
  }
 },
 "nbformat": 4,
 "nbformat_minor": 5
}
