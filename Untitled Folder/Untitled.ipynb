{
 "cells": [
  {
   "cell_type": "code",
   "execution_count": 1,
   "id": "921a6934",
   "metadata": {},
   "outputs": [],
   "source": [
    "import seaborn as sns\n",
    "import pandas as pd"
   ]
  },
  {
   "cell_type": "code",
   "execution_count": 51,
   "id": "86cfbf51",
   "metadata": {},
   "outputs": [],
   "source": [
    "dataset = pd.read_csv('venezia.csv', index_col=False)\n"
   ]
  },
  {
   "cell_type": "code",
   "execution_count": 57,
   "id": "0374a364",
   "metadata": {},
   "outputs": [],
   "source": [
    "dataset_2015 = dataset[pd.DatetimeIndex(dataset[\"datetime\"]).year == 2015]"
   ]
  },
  {
   "cell_type": "code",
   "execution_count": 53,
   "id": "4a9fe838",
   "metadata": {},
   "outputs": [
    {
     "data": {
      "text/plain": [
       "<AxesSubplot:ylabel='Frequency'>"
      ]
     },
     "execution_count": 53,
     "metadata": {},
     "output_type": "execute_result"
    },
    {
     "data": {
      "image/png": "[encoded data removed]",
      "text/plain": [
       "<Figure size 432x288 with 1 Axes>"
      ]
     },
     "metadata": {
      "needs_background": "light"
     },
     "output_type": "display_data"
    }
   ],
   "source": [
    "dataset_2015[\"level\"].plot(kind=\"hist\")"
   ]
  },
  {
   "cell_type": "code",
   "execution_count": 54,
   "id": "377ccb64",
   "metadata": {},
   "outputs": [
    {
     "data": {
      "text/html": [
       "<div>\n",
       "<style scoped>\n",
       "    .dataframe tbody tr th:only-of-type {\n",
       "        vertical-align: middle;\n",
       "    }\n",
       "\n",
       "    .dataframe tbody tr th {\n",
       "        vertical-align: top;\n",
       "    }\n",
       "\n",
       "    .dataframe thead th {\n",
       "        text-align: right;\n",
       "    }\n",
       "</style>\n",
       "<table border=\"1\" class=\"dataframe\">\n",
       "  <thead>\n",
       "    <tr style=\"text-align: right;\">\n",
       "      <th></th>\n",
       "      <th>datetime</th>\n",
       "      <th>level</th>\n",
       "    </tr>\n",
       "  </thead>\n",
       "  <tbody>\n",
       "    <tr>\n",
       "      <th>280511</th>\n",
       "      <td>2015-01-01 00:00:00</td>\n",
       "      <td>3.0</td>\n",
       "    </tr>\n",
       "    <tr>\n",
       "      <th>280512</th>\n",
       "      <td>2015-01-01 01:00:00</td>\n",
       "      <td>-5.0</td>\n",
       "    </tr>\n",
       "    <tr>\n",
       "      <th>280513</th>\n",
       "      <td>2015-01-01 02:00:00</td>\n",
       "      <td>-9.0</td>\n",
       "    </tr>\n",
       "    <tr>\n",
       "      <th>280514</th>\n",
       "      <td>2015-01-01 03:00:00</td>\n",
       "      <td>-7.0</td>\n",
       "    </tr>\n",
       "    <tr>\n",
       "      <th>280515</th>\n",
       "      <td>2015-01-01 04:00:00</td>\n",
       "      <td>2.0</td>\n",
       "    </tr>\n",
       "  </tbody>\n",
       "</table>\n",
       "</div>"
      ],
      "text/plain": [
       "                   datetime  level\n",
       "280511  2015-01-01 00:00:00    3.0\n",
       "280512  2015-01-01 01:00:00   -5.0\n",
       "280513  2015-01-01 02:00:00   -9.0\n",
       "280514  2015-01-01 03:00:00   -7.0\n",
       "280515  2015-01-01 04:00:00    2.0"
      ]
     },
     "execution_count": 54,
     "metadata": {},
     "output_type": "execute_result"
    }
   ],
   "source": [
    "dataset_2015.head()"
   ]
  },
  {
   "cell_type": "code",
   "execution_count": 55,
   "id": "daea47ae",
   "metadata": {},
   "outputs": [],
   "source": [
    "dataset_meteo = pd.read_csv('meteos.csv')"
   ]
  },
  {
   "cell_type": "code",
   "execution_count": 50,
   "id": "51945860",
   "metadata": {},
   "outputs": [
    {
     "data": {
      "text/plain": [
       "Int64Index([1, 1, 1, 1], dtype='int64', name='datetime')"
      ]
     },
     "execution_count": 50,
     "metadata": {},
     "output_type": "execute_result"
    }
   ],
   "source": [
    "pd.DatetimeIndex(dataset_2015[0:4][\"datetime\"]).day"
   ]
  },
  {
   "cell_type": "code",
   "execution_count": null,
   "id": "25a52e37",
   "metadata": {},
   "outputs": [],
   "source": []
  }
 ],
 "metadata": {
  "kernelspec": {
   "display_name": "Python 3 (ipykernel)",
   "language": "python",
   "name": "python3"
  },
  "language_info": {
   "codemirror_mode": {
    "name": "ipython",
    "version": 3
   },
   "file_extension": ".py",
   "mimetype": "text/x-python",
   "name": "python",
   "nbconvert_exporter": "python",
   "pygments_lexer": "ipython3",
   "version": "3.9.7"
  }
 },
 "nbformat": 4,
 "nbformat_minor": 5
}
